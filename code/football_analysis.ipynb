{
 "cells": [
  {
   "cell_type": "markdown",
   "metadata": {},
   "source": [
    "# Premier League Data Analysis - 2018-19\n",
    "\n"
   ]
  },
  {
   "cell_type": "code",
   "execution_count": 27,
   "metadata": {},
   "outputs": [],
   "source": [
    "# conventional way to import pandas\n",
    "import pandas as pd\n",
    "import matplotlib.pyplot as plt\n",
    "%matplotlib inline\n",
    "\n",
    "pd.set_option('display.max_columns', 100)\n",
    "pd.set_option('display.max_rows', 500)"
   ]
  },
  {
   "cell_type": "code",
   "execution_count": 14,
   "metadata": {},
   "outputs": [],
   "source": [
    "# Read the dataset of Premier League match results for the season 2018-2019 and store the results in a DataFrame\n",
    "football_data = pd.read_csv('../data/EPL18_19.csv')"
   ]
  },
  {
   "cell_type": "code",
   "execution_count": 15,
   "metadata": {},
   "outputs": [
    {
     "name": "stdout",
     "output_type": "stream",
     "text": [
      "The first five rows of the dataset: \n"
     ]
    },
    {
     "data": {
      "text/html": [
       "<div>\n",
       "<style scoped>\n",
       "    .dataframe tbody tr th:only-of-type {\n",
       "        vertical-align: middle;\n",
       "    }\n",
       "\n",
       "    .dataframe tbody tr th {\n",
       "        vertical-align: top;\n",
       "    }\n",
       "\n",
       "    .dataframe thead th {\n",
       "        text-align: right;\n",
       "    }\n",
       "</style>\n",
       "<table border=\"1\" class=\"dataframe\">\n",
       "  <thead>\n",
       "    <tr style=\"text-align: right;\">\n",
       "      <th></th>\n",
       "      <th>Div</th>\n",
       "      <th>Date</th>\n",
       "      <th>HomeTeam</th>\n",
       "      <th>AwayTeam</th>\n",
       "      <th>FTHG</th>\n",
       "      <th>FTAG</th>\n",
       "      <th>FTR</th>\n",
       "      <th>HTHG</th>\n",
       "      <th>HTAG</th>\n",
       "      <th>HTR</th>\n",
       "      <th>Referee</th>\n",
       "      <th>HS</th>\n",
       "      <th>AS</th>\n",
       "      <th>HST</th>\n",
       "      <th>AST</th>\n",
       "      <th>HF</th>\n",
       "      <th>AF</th>\n",
       "      <th>HC</th>\n",
       "      <th>AC</th>\n",
       "      <th>HY</th>\n",
       "      <th>AY</th>\n",
       "      <th>HR</th>\n",
       "      <th>AR</th>\n",
       "      <th>B365H</th>\n",
       "      <th>B365D</th>\n",
       "      <th>B365A</th>\n",
       "      <th>BWH</th>\n",
       "      <th>BWD</th>\n",
       "      <th>BWA</th>\n",
       "      <th>IWH</th>\n",
       "      <th>IWD</th>\n",
       "      <th>IWA</th>\n",
       "      <th>PSH</th>\n",
       "      <th>PSD</th>\n",
       "      <th>PSA</th>\n",
       "      <th>WHH</th>\n",
       "      <th>WHD</th>\n",
       "      <th>WHA</th>\n",
       "      <th>VCH</th>\n",
       "      <th>VCD</th>\n",
       "      <th>VCA</th>\n",
       "      <th>Bb1X2</th>\n",
       "      <th>BbMxH</th>\n",
       "      <th>BbAvH</th>\n",
       "      <th>BbMxD</th>\n",
       "      <th>BbAvD</th>\n",
       "      <th>BbMxA</th>\n",
       "      <th>BbAvA</th>\n",
       "      <th>BbOU</th>\n",
       "      <th>BbMx&gt;2.5</th>\n",
       "      <th>BbAv&gt;2.5</th>\n",
       "      <th>BbMx&lt;2.5</th>\n",
       "      <th>BbAv&lt;2.5</th>\n",
       "      <th>BbAH</th>\n",
       "      <th>BbAHh</th>\n",
       "      <th>BbMxAHH</th>\n",
       "      <th>BbAvAHH</th>\n",
       "      <th>BbMxAHA</th>\n",
       "      <th>BbAvAHA</th>\n",
       "      <th>PSCH</th>\n",
       "      <th>PSCD</th>\n",
       "      <th>PSCA</th>\n",
       "    </tr>\n",
       "  </thead>\n",
       "  <tbody>\n",
       "    <tr>\n",
       "      <th>0</th>\n",
       "      <td>E0</td>\n",
       "      <td>10/08/2018</td>\n",
       "      <td>Man United</td>\n",
       "      <td>Leicester</td>\n",
       "      <td>2</td>\n",
       "      <td>1</td>\n",
       "      <td>H</td>\n",
       "      <td>1</td>\n",
       "      <td>0</td>\n",
       "      <td>H</td>\n",
       "      <td>A Marriner</td>\n",
       "      <td>8</td>\n",
       "      <td>13</td>\n",
       "      <td>6</td>\n",
       "      <td>4</td>\n",
       "      <td>11</td>\n",
       "      <td>8</td>\n",
       "      <td>2</td>\n",
       "      <td>5</td>\n",
       "      <td>2</td>\n",
       "      <td>1</td>\n",
       "      <td>0</td>\n",
       "      <td>0</td>\n",
       "      <td>1.57</td>\n",
       "      <td>3.9</td>\n",
       "      <td>7.50</td>\n",
       "      <td>1.53</td>\n",
       "      <td>4.0</td>\n",
       "      <td>7.50</td>\n",
       "      <td>1.55</td>\n",
       "      <td>3.80</td>\n",
       "      <td>7.00</td>\n",
       "      <td>1.58</td>\n",
       "      <td>3.93</td>\n",
       "      <td>7.50</td>\n",
       "      <td>1.57</td>\n",
       "      <td>3.8</td>\n",
       "      <td>6.00</td>\n",
       "      <td>1.57</td>\n",
       "      <td>4.0</td>\n",
       "      <td>7.00</td>\n",
       "      <td>39</td>\n",
       "      <td>1.60</td>\n",
       "      <td>1.56</td>\n",
       "      <td>4.20</td>\n",
       "      <td>3.92</td>\n",
       "      <td>8.05</td>\n",
       "      <td>7.06</td>\n",
       "      <td>38</td>\n",
       "      <td>2.12</td>\n",
       "      <td>2.03</td>\n",
       "      <td>1.85</td>\n",
       "      <td>1.79</td>\n",
       "      <td>17</td>\n",
       "      <td>-0.75</td>\n",
       "      <td>1.75</td>\n",
       "      <td>1.70</td>\n",
       "      <td>2.29</td>\n",
       "      <td>2.21</td>\n",
       "      <td>1.55</td>\n",
       "      <td>4.07</td>\n",
       "      <td>7.69</td>\n",
       "    </tr>\n",
       "    <tr>\n",
       "      <th>1</th>\n",
       "      <td>E0</td>\n",
       "      <td>11/08/2018</td>\n",
       "      <td>Bournemouth</td>\n",
       "      <td>Cardiff</td>\n",
       "      <td>2</td>\n",
       "      <td>0</td>\n",
       "      <td>H</td>\n",
       "      <td>1</td>\n",
       "      <td>0</td>\n",
       "      <td>H</td>\n",
       "      <td>K Friend</td>\n",
       "      <td>12</td>\n",
       "      <td>10</td>\n",
       "      <td>4</td>\n",
       "      <td>1</td>\n",
       "      <td>11</td>\n",
       "      <td>9</td>\n",
       "      <td>7</td>\n",
       "      <td>4</td>\n",
       "      <td>1</td>\n",
       "      <td>1</td>\n",
       "      <td>0</td>\n",
       "      <td>0</td>\n",
       "      <td>1.90</td>\n",
       "      <td>3.6</td>\n",
       "      <td>4.50</td>\n",
       "      <td>1.90</td>\n",
       "      <td>3.4</td>\n",
       "      <td>4.40</td>\n",
       "      <td>1.90</td>\n",
       "      <td>3.50</td>\n",
       "      <td>4.10</td>\n",
       "      <td>1.89</td>\n",
       "      <td>3.63</td>\n",
       "      <td>4.58</td>\n",
       "      <td>1.91</td>\n",
       "      <td>3.5</td>\n",
       "      <td>4.00</td>\n",
       "      <td>1.87</td>\n",
       "      <td>3.6</td>\n",
       "      <td>4.75</td>\n",
       "      <td>39</td>\n",
       "      <td>1.93</td>\n",
       "      <td>1.88</td>\n",
       "      <td>3.71</td>\n",
       "      <td>3.53</td>\n",
       "      <td>4.75</td>\n",
       "      <td>4.37</td>\n",
       "      <td>38</td>\n",
       "      <td>2.05</td>\n",
       "      <td>1.98</td>\n",
       "      <td>1.92</td>\n",
       "      <td>1.83</td>\n",
       "      <td>20</td>\n",
       "      <td>-0.75</td>\n",
       "      <td>2.20</td>\n",
       "      <td>2.13</td>\n",
       "      <td>1.80</td>\n",
       "      <td>1.75</td>\n",
       "      <td>1.88</td>\n",
       "      <td>3.61</td>\n",
       "      <td>4.70</td>\n",
       "    </tr>\n",
       "    <tr>\n",
       "      <th>2</th>\n",
       "      <td>E0</td>\n",
       "      <td>11/08/2018</td>\n",
       "      <td>Fulham</td>\n",
       "      <td>Crystal Palace</td>\n",
       "      <td>0</td>\n",
       "      <td>2</td>\n",
       "      <td>A</td>\n",
       "      <td>0</td>\n",
       "      <td>1</td>\n",
       "      <td>A</td>\n",
       "      <td>M Dean</td>\n",
       "      <td>15</td>\n",
       "      <td>10</td>\n",
       "      <td>6</td>\n",
       "      <td>9</td>\n",
       "      <td>9</td>\n",
       "      <td>11</td>\n",
       "      <td>5</td>\n",
       "      <td>5</td>\n",
       "      <td>1</td>\n",
       "      <td>2</td>\n",
       "      <td>0</td>\n",
       "      <td>0</td>\n",
       "      <td>2.50</td>\n",
       "      <td>3.4</td>\n",
       "      <td>3.00</td>\n",
       "      <td>2.45</td>\n",
       "      <td>3.3</td>\n",
       "      <td>2.95</td>\n",
       "      <td>2.40</td>\n",
       "      <td>3.30</td>\n",
       "      <td>2.95</td>\n",
       "      <td>2.50</td>\n",
       "      <td>3.46</td>\n",
       "      <td>3.00</td>\n",
       "      <td>2.45</td>\n",
       "      <td>3.3</td>\n",
       "      <td>2.80</td>\n",
       "      <td>2.50</td>\n",
       "      <td>3.4</td>\n",
       "      <td>3.00</td>\n",
       "      <td>39</td>\n",
       "      <td>2.60</td>\n",
       "      <td>2.47</td>\n",
       "      <td>3.49</td>\n",
       "      <td>3.35</td>\n",
       "      <td>3.05</td>\n",
       "      <td>2.92</td>\n",
       "      <td>38</td>\n",
       "      <td>2.00</td>\n",
       "      <td>1.95</td>\n",
       "      <td>1.96</td>\n",
       "      <td>1.87</td>\n",
       "      <td>22</td>\n",
       "      <td>-0.25</td>\n",
       "      <td>2.18</td>\n",
       "      <td>2.11</td>\n",
       "      <td>1.81</td>\n",
       "      <td>1.77</td>\n",
       "      <td>2.62</td>\n",
       "      <td>3.38</td>\n",
       "      <td>2.90</td>\n",
       "    </tr>\n",
       "    <tr>\n",
       "      <th>3</th>\n",
       "      <td>E0</td>\n",
       "      <td>11/08/2018</td>\n",
       "      <td>Huddersfield</td>\n",
       "      <td>Chelsea</td>\n",
       "      <td>0</td>\n",
       "      <td>3</td>\n",
       "      <td>A</td>\n",
       "      <td>0</td>\n",
       "      <td>2</td>\n",
       "      <td>A</td>\n",
       "      <td>C Kavanagh</td>\n",
       "      <td>6</td>\n",
       "      <td>13</td>\n",
       "      <td>1</td>\n",
       "      <td>4</td>\n",
       "      <td>9</td>\n",
       "      <td>8</td>\n",
       "      <td>2</td>\n",
       "      <td>5</td>\n",
       "      <td>2</td>\n",
       "      <td>1</td>\n",
       "      <td>0</td>\n",
       "      <td>0</td>\n",
       "      <td>6.50</td>\n",
       "      <td>4.0</td>\n",
       "      <td>1.61</td>\n",
       "      <td>6.25</td>\n",
       "      <td>3.9</td>\n",
       "      <td>1.57</td>\n",
       "      <td>6.20</td>\n",
       "      <td>4.00</td>\n",
       "      <td>1.55</td>\n",
       "      <td>6.41</td>\n",
       "      <td>4.02</td>\n",
       "      <td>1.62</td>\n",
       "      <td>5.80</td>\n",
       "      <td>3.9</td>\n",
       "      <td>1.57</td>\n",
       "      <td>6.50</td>\n",
       "      <td>4.0</td>\n",
       "      <td>1.62</td>\n",
       "      <td>38</td>\n",
       "      <td>6.85</td>\n",
       "      <td>6.09</td>\n",
       "      <td>4.07</td>\n",
       "      <td>3.90</td>\n",
       "      <td>1.66</td>\n",
       "      <td>1.61</td>\n",
       "      <td>37</td>\n",
       "      <td>2.05</td>\n",
       "      <td>1.98</td>\n",
       "      <td>1.90</td>\n",
       "      <td>1.84</td>\n",
       "      <td>23</td>\n",
       "      <td>1.00</td>\n",
       "      <td>1.84</td>\n",
       "      <td>1.80</td>\n",
       "      <td>2.13</td>\n",
       "      <td>2.06</td>\n",
       "      <td>7.24</td>\n",
       "      <td>3.95</td>\n",
       "      <td>1.58</td>\n",
       "    </tr>\n",
       "    <tr>\n",
       "      <th>4</th>\n",
       "      <td>E0</td>\n",
       "      <td>11/08/2018</td>\n",
       "      <td>Newcastle</td>\n",
       "      <td>Tottenham</td>\n",
       "      <td>1</td>\n",
       "      <td>2</td>\n",
       "      <td>A</td>\n",
       "      <td>1</td>\n",
       "      <td>2</td>\n",
       "      <td>A</td>\n",
       "      <td>M Atkinson</td>\n",
       "      <td>15</td>\n",
       "      <td>15</td>\n",
       "      <td>2</td>\n",
       "      <td>5</td>\n",
       "      <td>11</td>\n",
       "      <td>12</td>\n",
       "      <td>3</td>\n",
       "      <td>5</td>\n",
       "      <td>2</td>\n",
       "      <td>2</td>\n",
       "      <td>0</td>\n",
       "      <td>0</td>\n",
       "      <td>3.90</td>\n",
       "      <td>3.5</td>\n",
       "      <td>2.04</td>\n",
       "      <td>3.80</td>\n",
       "      <td>3.5</td>\n",
       "      <td>2.00</td>\n",
       "      <td>3.70</td>\n",
       "      <td>3.35</td>\n",
       "      <td>2.05</td>\n",
       "      <td>3.83</td>\n",
       "      <td>3.57</td>\n",
       "      <td>2.08</td>\n",
       "      <td>3.80</td>\n",
       "      <td>3.2</td>\n",
       "      <td>2.05</td>\n",
       "      <td>3.90</td>\n",
       "      <td>3.4</td>\n",
       "      <td>2.10</td>\n",
       "      <td>39</td>\n",
       "      <td>4.01</td>\n",
       "      <td>3.83</td>\n",
       "      <td>3.57</td>\n",
       "      <td>3.40</td>\n",
       "      <td>2.12</td>\n",
       "      <td>2.05</td>\n",
       "      <td>38</td>\n",
       "      <td>2.10</td>\n",
       "      <td>2.01</td>\n",
       "      <td>1.88</td>\n",
       "      <td>1.81</td>\n",
       "      <td>20</td>\n",
       "      <td>0.25</td>\n",
       "      <td>2.20</td>\n",
       "      <td>2.12</td>\n",
       "      <td>1.80</td>\n",
       "      <td>1.76</td>\n",
       "      <td>4.74</td>\n",
       "      <td>3.53</td>\n",
       "      <td>1.89</td>\n",
       "    </tr>\n",
       "  </tbody>\n",
       "</table>\n",
       "</div>"
      ],
      "text/plain": [
       "  Div        Date      HomeTeam        AwayTeam  FTHG  FTAG FTR  HTHG  HTAG  \\\n",
       "0  E0  10/08/2018    Man United       Leicester     2     1   H     1     0   \n",
       "1  E0  11/08/2018   Bournemouth         Cardiff     2     0   H     1     0   \n",
       "2  E0  11/08/2018        Fulham  Crystal Palace     0     2   A     0     1   \n",
       "3  E0  11/08/2018  Huddersfield         Chelsea     0     3   A     0     2   \n",
       "4  E0  11/08/2018     Newcastle       Tottenham     1     2   A     1     2   \n",
       "\n",
       "  HTR     Referee  HS  AS  HST  AST  HF  AF  HC  AC  HY  AY  HR  AR  B365H  \\\n",
       "0   H  A Marriner   8  13    6    4  11   8   2   5   2   1   0   0   1.57   \n",
       "1   H    K Friend  12  10    4    1  11   9   7   4   1   1   0   0   1.90   \n",
       "2   A      M Dean  15  10    6    9   9  11   5   5   1   2   0   0   2.50   \n",
       "3   A  C Kavanagh   6  13    1    4   9   8   2   5   2   1   0   0   6.50   \n",
       "4   A  M Atkinson  15  15    2    5  11  12   3   5   2   2   0   0   3.90   \n",
       "\n",
       "   B365D  B365A   BWH  BWD   BWA   IWH   IWD   IWA   PSH   PSD   PSA   WHH  \\\n",
       "0    3.9   7.50  1.53  4.0  7.50  1.55  3.80  7.00  1.58  3.93  7.50  1.57   \n",
       "1    3.6   4.50  1.90  3.4  4.40  1.90  3.50  4.10  1.89  3.63  4.58  1.91   \n",
       "2    3.4   3.00  2.45  3.3  2.95  2.40  3.30  2.95  2.50  3.46  3.00  2.45   \n",
       "3    4.0   1.61  6.25  3.9  1.57  6.20  4.00  1.55  6.41  4.02  1.62  5.80   \n",
       "4    3.5   2.04  3.80  3.5  2.00  3.70  3.35  2.05  3.83  3.57  2.08  3.80   \n",
       "\n",
       "   WHD   WHA   VCH  VCD   VCA  Bb1X2  BbMxH  BbAvH  BbMxD  BbAvD  BbMxA  \\\n",
       "0  3.8  6.00  1.57  4.0  7.00     39   1.60   1.56   4.20   3.92   8.05   \n",
       "1  3.5  4.00  1.87  3.6  4.75     39   1.93   1.88   3.71   3.53   4.75   \n",
       "2  3.3  2.80  2.50  3.4  3.00     39   2.60   2.47   3.49   3.35   3.05   \n",
       "3  3.9  1.57  6.50  4.0  1.62     38   6.85   6.09   4.07   3.90   1.66   \n",
       "4  3.2  2.05  3.90  3.4  2.10     39   4.01   3.83   3.57   3.40   2.12   \n",
       "\n",
       "   BbAvA  BbOU  BbMx>2.5  BbAv>2.5  BbMx<2.5  BbAv<2.5  BbAH  BbAHh  BbMxAHH  \\\n",
       "0   7.06    38      2.12      2.03      1.85      1.79    17  -0.75     1.75   \n",
       "1   4.37    38      2.05      1.98      1.92      1.83    20  -0.75     2.20   \n",
       "2   2.92    38      2.00      1.95      1.96      1.87    22  -0.25     2.18   \n",
       "3   1.61    37      2.05      1.98      1.90      1.84    23   1.00     1.84   \n",
       "4   2.05    38      2.10      2.01      1.88      1.81    20   0.25     2.20   \n",
       "\n",
       "   BbAvAHH  BbMxAHA  BbAvAHA  PSCH  PSCD  PSCA  \n",
       "0     1.70     2.29     2.21  1.55  4.07  7.69  \n",
       "1     2.13     1.80     1.75  1.88  3.61  4.70  \n",
       "2     2.11     1.81     1.77  2.62  3.38  2.90  \n",
       "3     1.80     2.13     2.06  7.24  3.95  1.58  \n",
       "4     2.12     1.80     1.76  4.74  3.53  1.89  "
      ]
     },
     "execution_count": 15,
     "metadata": {},
     "output_type": "execute_result"
    }
   ],
   "source": [
    "# Let's first examine the first 5 rows\n",
    "print(\"The first five rows of the dataset: \")\n",
    "football_data.head()"
   ]
  },
  {
   "cell_type": "code",
   "execution_count": 16,
   "metadata": {},
   "outputs": [
    {
     "name": "stdout",
     "output_type": "stream",
     "text": [
      "The number of rows in the dataset are 380.\n",
      "The number of columns in the dataset are 62.\n"
     ]
    }
   ],
   "source": [
    "# Number of rows and columns\n",
    "print(\"The number of rows in the dataset are {}.\\nThe number of columns in the dataset are {}.\"\n",
    "      .format(football_data.shape[0], football_data.shape[1]))"
   ]
  },
  {
   "cell_type": "code",
   "execution_count": 17,
   "metadata": {},
   "outputs": [
    {
     "name": "stdout",
     "output_type": "stream",
     "text": [
      "The data types in the dataset are:\n",
      "Div          object\n",
      "Date         object\n",
      "HomeTeam     object\n",
      "AwayTeam     object\n",
      "FTHG          int64\n",
      "FTAG          int64\n",
      "FTR          object\n",
      "HTHG          int64\n",
      "HTAG          int64\n",
      "HTR          object\n",
      "Referee      object\n",
      "HS            int64\n",
      "AS            int64\n",
      "HST           int64\n",
      "AST           int64\n",
      "HF            int64\n",
      "AF            int64\n",
      "HC            int64\n",
      "AC            int64\n",
      "HY            int64\n",
      "AY            int64\n",
      "HR            int64\n",
      "AR            int64\n",
      "B365H       float64\n",
      "B365D       float64\n",
      "B365A       float64\n",
      "BWH         float64\n",
      "BWD         float64\n",
      "BWA         float64\n",
      "IWH         float64\n",
      "IWD         float64\n",
      "IWA         float64\n",
      "PSH         float64\n",
      "PSD         float64\n",
      "PSA         float64\n",
      "WHH         float64\n",
      "WHD         float64\n",
      "WHA         float64\n",
      "VCH         float64\n",
      "VCD         float64\n",
      "VCA         float64\n",
      "Bb1X2         int64\n",
      "BbMxH       float64\n",
      "BbAvH       float64\n",
      "BbMxD       float64\n",
      "BbAvD       float64\n",
      "BbMxA       float64\n",
      "BbAvA       float64\n",
      "BbOU          int64\n",
      "BbMx>2.5    float64\n",
      "BbAv>2.5    float64\n",
      "BbMx<2.5    float64\n",
      "BbAv<2.5    float64\n",
      "BbAH          int64\n",
      "BbAHh       float64\n",
      "BbMxAHH     float64\n",
      "BbAvAHH     float64\n",
      "BbMxAHA     float64\n",
      "BbAvAHA     float64\n",
      "PSCH        float64\n",
      "PSCD        float64\n",
      "PSCA        float64\n",
      "dtype: object\n"
     ]
    }
   ],
   "source": [
    "# Data Type of each column\n",
    "print(\"The data types in the dataset are:\\n{}\".format(football_data.dtypes))"
   ]
  },
  {
   "cell_type": "code",
   "execution_count": 18,
   "metadata": {},
   "outputs": [
    {
     "data": {
      "text/plain": [
       "Index(['Div', 'Date', 'HomeTeam', 'AwayTeam', 'FTHG', 'FTAG', 'FTR', 'HTHG',\n",
       "       'HTAG', 'HTR', 'Referee', 'HS', 'AS', 'HST', 'AST', 'HF', 'AF', 'HC',\n",
       "       'AC', 'HY', 'AY', 'HR', 'AR', 'B365H', 'B365D', 'B365A', 'BWH', 'BWD',\n",
       "       'BWA', 'IWH', 'IWD', 'IWA', 'PSH', 'PSD', 'PSA', 'WHH', 'WHD', 'WHA',\n",
       "       'VCH', 'VCD', 'VCA', 'Bb1X2', 'BbMxH', 'BbAvH', 'BbMxD', 'BbAvD',\n",
       "       'BbMxA', 'BbAvA', 'BbOU', 'BbMx>2.5', 'BbAv>2.5', 'BbMx<2.5',\n",
       "       'BbAv<2.5', 'BbAH', 'BbAHh', 'BbMxAHH', 'BbAvAHH', 'BbMxAHA', 'BbAvAHA',\n",
       "       'PSCH', 'PSCD', 'PSCA'],\n",
       "      dtype='object')"
      ]
     },
     "execution_count": 18,
     "metadata": {},
     "output_type": "execute_result"
    }
   ],
   "source": [
    "# Get all the columns of the dataset\n",
    "football_data.columns"
   ]
  },
  {
   "cell_type": "markdown",
   "metadata": {},
   "source": [
    "I am only concerned with few columns. Removing all the unnecesaary columns:"
   ]
  },
  {
   "cell_type": "code",
   "execution_count": 22,
   "metadata": {},
   "outputs": [
    {
     "name": "stdout",
     "output_type": "stream",
     "text": [
      "The first five rows of the new dataset:\n",
      "  Div        Date      HomeTeam        AwayTeam  FTHG  FTAG FTR  HTHG  HTAG  \\\n",
      "0  E0  10/08/2018    Man United       Leicester     2     1   H     1     0   \n",
      "1  E0  11/08/2018   Bournemouth         Cardiff     2     0   H     1     0   \n",
      "2  E0  11/08/2018        Fulham  Crystal Palace     0     2   A     0     1   \n",
      "3  E0  11/08/2018  Huddersfield         Chelsea     0     3   A     0     2   \n",
      "4  E0  11/08/2018     Newcastle       Tottenham     1     2   A     1     2   \n",
      "\n",
      "  HTR     Referee  HS  AS  HST  AST  HF  AF  HC  AC  HY  AY  HR  AR  \n",
      "0   H  A Marriner   8  13    6    4  11   8   2   5   2   1   0   0  \n",
      "1   H    K Friend  12  10    4    1  11   9   7   4   1   1   0   0  \n",
      "2   A      M Dean  15  10    6    9   9  11   5   5   1   2   0   0  \n",
      "3   A  C Kavanagh   6  13    1    4   9   8   2   5   2   1   0   0  \n",
      "4   A  M Atkinson  15  15    2    5  11  12   3   5   2   2   0   0  \n"
     ]
    }
   ],
   "source": [
    "# Selecting only the required dataset\n",
    "football_data = football_data.loc[:,'Div':'AR']\n",
    "print(\"The first five rows of the new dataset:\\n{}\".format(football_data.head()))"
   ]
  },
  {
   "cell_type": "markdown",
   "metadata": {},
   "source": [
    "Terms for each column:\n",
    "\n",
    "Div = League Division\n",
    "\n",
    "Date = Match Date (dd/mm/yy)\n",
    "\n",
    "HomeTeam = Home Team\n",
    "\n",
    "AwayTeam = Away Team\n",
    "\n",
    "FTHG = Full Time Home Team Goals\n",
    "\n",
    "FTAG = Full Time Away Team Goals\n",
    "\n",
    "FTR = Full Time Result (H=Home Win, D=Draw, A=Away Win)\n",
    "\n",
    "HTHG = Half Time Home Team Goals\n",
    "\n",
    "HTAG = Half Time Away Team Goals\n",
    "\n",
    "HTR = Half Time Result (H=Home Win, D=Draw, A=Away Win)\n",
    "\n",
    "Referee = Match Referee\n",
    "\n",
    "HS = Home Team Shots\n",
    "\n",
    "AS = Away Team Shots\n",
    "\n",
    "HST = Home Team Shots on Target\n",
    "\n",
    "AST = Away Team Shots on Target\n",
    "\n",
    "HF = Home Team Fouls Committed\n",
    "\n",
    "AF = Away Team Fouls Committed\n",
    "\n",
    "HC = Home Team Corners\n",
    "\n",
    "AC = Away Team Corners\n",
    "\n",
    "HY = Home Team Yellow Cards\n",
    "\n",
    "AY = Away Team Yellow Cards\n",
    "\n",
    "HR = Home Team Red Cards\n",
    "\n",
    "AR = Away Team Red Cards"
   ]
  },
  {
   "cell_type": "code",
   "execution_count": 23,
   "metadata": {},
   "outputs": [
    {
     "name": "stdout",
     "output_type": "stream",
     "text": [
      "The total number of goals scored by the HOME team is: 596\n"
     ]
    }
   ],
   "source": [
    "# Total Number of Goals scored by the HOME Team\n",
    "home_goals = football_data['FTHG'].sum()\n",
    "print(\"The total number of goals scored by the HOME team is: {}\".format(home_goals))"
   ]
  },
  {
   "cell_type": "code",
   "execution_count": 24,
   "metadata": {},
   "outputs": [
    {
     "name": "stdout",
     "output_type": "stream",
     "text": [
      "The total number of goals scored by the AWAY team is: 476\n"
     ]
    }
   ],
   "source": [
    "# Total Number of Goals scored by the AWAY Team\n",
    "away_goals = football_data['FTAG'].sum()\n",
    "print(\"The total number of goals scored by the AWAY team is: {}\".format(away_goals))"
   ]
  },
  {
   "cell_type": "code",
   "execution_count": 25,
   "metadata": {},
   "outputs": [
    {
     "name": "stdout",
     "output_type": "stream",
     "text": [
      "The total number of goals scored in the whole season is: 1072\n"
     ]
    }
   ],
   "source": [
    "# Total Number of Goals scored.\n",
    "sum_goals = home_goals + away_goals\n",
    "print(\"The total number of goals scored in the whole season is: {}\".format(sum_goals))"
   ]
  },
  {
   "cell_type": "code",
   "execution_count": 42,
   "metadata": {},
   "outputs": [
    {
     "name": "stdout",
     "output_type": "stream",
     "text": [
      "The percentage of goals scored by the Home team during the whole season is 55.59701492537313.\n",
      "The percentage of goals scored by the Away team during the whole season is 44.40298507462687.\n"
     ]
    },
    {
     "data": {
      "image/png": "[encoded data removed]",
      "text/plain": [
       "<Figure size 432x288 with 1 Axes>"
      ]
     },
     "metadata": {},
     "output_type": "display_data"
    }
   ],
   "source": [
    "print('The percentage of goals scored by the Home team during the whole season is {}.'\n",
    "      .format((home_goals/sum_goals)*100))\n",
    "print('The percentage of goals scored by the Away team during the whole season is {}.'\n",
    "      .format((away_goals/sum_goals)*100))\n",
    "\n",
    "# Plotting\n",
    "fig1,ax1 = plt.subplots()\n",
    "ax1.pie([home_goals, away_goals], labels=['Home Goals', 'Away Goals'], autopct='%1.1f%%')\n",
    "ax1.axis('equal')\n",
    "ax1.set_title('Percentage of goals scored by the Home Team and Away Team:')\n",
    "plt.show()"
   ]
  },
  {
   "cell_type": "code",
   "execution_count": 48,
   "metadata": {
    "scrolled": true
   },
   "outputs": [
    {
     "name": "stdout",
     "output_type": "stream",
     "text": [
      "The number of HOME Team Wins: 181\n",
      "The Number of AWAY Team Wins: 128\n",
      "The number of DRAWS: 71\n"
     ]
    }
   ],
   "source": [
    "# Number of HOME Team Wins, Away Team Wins and Draws in the whole season\n",
    "results = football_data['FTR'].value_counts()\n",
    "print(\"The number of HOME Team Wins: {}\\nThe Number of AWAY Team Wins: {}\\nThe number of DRAWS: {}\"\n",
    "     .format(results[0], results[1], results[2]))"
   ]
  },
  {
   "cell_type": "code",
   "execution_count": 52,
   "metadata": {},
   "outputs": [
    {
     "data": {
      "image/png": "[encoded data removed]",
      "text/plain": [
       "<Figure size 432x432 with 1 Axes>"
      ]
     },
     "metadata": {},
     "output_type": "display_data"
    }
   ],
   "source": [
    "results.plot.pie(labels=['Home Team Wins', 'Away Team Wins', 'Draws'],\n",
    "                                             colors=['r', 'g', 'b'], \n",
    "                                             autopct='%.2f', fontsize=12, figsize=(6, 6));"
   ]
  },
  {
   "cell_type": "code",
   "execution_count": 54,
   "metadata": {},
   "outputs": [
    {
     "name": "stdout",
     "output_type": "stream",
     "text": [
      "The average number of goals scored by the HOME Team: 1.568421052631579\n"
     ]
    }
   ],
   "source": [
    "# The Average Number of Goals scored by the HOME Team\n",
    "# FTHG = Full Time Home Team Goals\n",
    "mean_home = football_data['FTHG'].mean()\n",
    "print(\"The average number of goals scored by the HOME Team - {}\".format(mean_home))"
   ]
  },
  {
   "cell_type": "code",
   "execution_count": 55,
   "metadata": {},
   "outputs": [
    {
     "name": "stdout",
     "output_type": "stream",
     "text": [
      "The average number of goals scored by the AWAY Team: 1.2526315789473683\n"
     ]
    }
   ],
   "source": [
    "# The Average Number of Goals scored by the AWAY Team\n",
    "# FTAG = Full Time Away Team Goals\n",
    "mean_away = football_data['FTAG'].mean()\n",
    "print(\"The average number of goals scored by the AWAY Team - {}\".format(mean_away))"
   ]
  },
  {
   "cell_type": "code",
   "execution_count": 62,
   "metadata": {},
   "outputs": [
    {
     "name": "stdout",
     "output_type": "stream",
     "text": [
      "The average number of goals scored by the HOME Team at Half Time is 0.6789473684210526\n"
     ]
    }
   ],
   "source": [
    "# The Average Number of Goals scored by the HOME Team at HALF Time\n",
    "# HTHG = Half Time Home Team Goals\n",
    "print(\"The average number of goals scored by the HOME Team at Half Time - {}\"\n",
    "      .format(football_data['HTHG'].mean()))"
   ]
  },
  {
   "cell_type": "code",
   "execution_count": 63,
   "metadata": {},
   "outputs": [
    {
     "name": "stdout",
     "output_type": "stream",
     "text": [
      "The average number of goals scored by the AWAY Team at Half Time is 0.5736842105263158\n"
     ]
    }
   ],
   "source": [
    "# The Average Number of Goals scored by the AWAY Team at HALF Time\n",
    "# HTAG = Half Time Away Team Goals\n",
    "print(\"The average number of goals scored by the AWAY Team at Half Time - {}\"\n",
    "      .format(football_data['HTAG'].mean()))"
   ]
  },
  {
   "cell_type": "code",
   "execution_count": 64,
   "metadata": {},
   "outputs": [
    {
     "name": "stdout",
     "output_type": "stream",
     "text": [
      "The average number of shots by the HOME Team - 14.134210526315789\n"
     ]
    }
   ],
   "source": [
    "# The Average Number of Shots by the HOME Team\n",
    "# HS = Home Team Shots\n",
    "print(\"The average number of shots by the HOME Team - {}\".format(football_data['HS'].mean()))"
   ]
  },
  {
   "cell_type": "code",
   "execution_count": 65,
   "metadata": {},
   "outputs": [
    {
     "name": "stdout",
     "output_type": "stream",
     "text": [
      "The average number of shots by the AWAY Team - 11.144736842105264\n"
     ]
    }
   ],
   "source": [
    "# The Average Number of Shots by the AWAY Team\n",
    "# AS = Away Team Shots\n",
    "print(\"The average number of shots by the AWAY Team - {}\".format(football_data['AS'].mean()))"
   ]
  },
  {
   "cell_type": "code",
   "execution_count": 66,
   "metadata": {},
   "outputs": [
    {
     "data": {
      "text/html": [
       "<div>\n",
       "<style scoped>\n",
       "    .dataframe tbody tr th:only-of-type {\n",
       "        vertical-align: middle;\n",
       "    }\n",
       "\n",
       "    .dataframe tbody tr th {\n",
       "        vertical-align: top;\n",
       "    }\n",
       "\n",
       "    .dataframe thead th {\n",
       "        text-align: right;\n",
       "    }\n",
       "</style>\n",
       "<table border=\"1\" class=\"dataframe\">\n",
       "  <thead>\n",
       "    <tr style=\"text-align: right;\">\n",
       "      <th></th>\n",
       "      <th>Div</th>\n",
       "      <th>Date</th>\n",
       "      <th>HomeTeam</th>\n",
       "      <th>AwayTeam</th>\n",
       "      <th>FTHG</th>\n",
       "      <th>FTAG</th>\n",
       "      <th>FTR</th>\n",
       "      <th>HTHG</th>\n",
       "      <th>HTAG</th>\n",
       "      <th>HTR</th>\n",
       "      <th>Referee</th>\n",
       "      <th>HS</th>\n",
       "      <th>AS</th>\n",
       "      <th>HST</th>\n",
       "      <th>AST</th>\n",
       "      <th>HF</th>\n",
       "      <th>AF</th>\n",
       "      <th>HC</th>\n",
       "      <th>AC</th>\n",
       "      <th>HY</th>\n",
       "      <th>AY</th>\n",
       "      <th>HR</th>\n",
       "      <th>AR</th>\n",
       "    </tr>\n",
       "  </thead>\n",
       "  <tbody>\n",
       "    <tr>\n",
       "      <th>0</th>\n",
       "      <td>E0</td>\n",
       "      <td>10/08/2018</td>\n",
       "      <td>Man United</td>\n",
       "      <td>Leicester</td>\n",
       "      <td>2</td>\n",
       "      <td>1</td>\n",
       "      <td>H</td>\n",
       "      <td>1</td>\n",
       "      <td>0</td>\n",
       "      <td>H</td>\n",
       "      <td>A Marriner</td>\n",
       "      <td>8</td>\n",
       "      <td>13</td>\n",
       "      <td>6</td>\n",
       "      <td>4</td>\n",
       "      <td>11</td>\n",
       "      <td>8</td>\n",
       "      <td>2</td>\n",
       "      <td>5</td>\n",
       "      <td>2</td>\n",
       "      <td>1</td>\n",
       "      <td>0</td>\n",
       "      <td>0</td>\n",
       "    </tr>\n",
       "    <tr>\n",
       "      <th>1</th>\n",
       "      <td>E0</td>\n",
       "      <td>11/08/2018</td>\n",
       "      <td>Bournemouth</td>\n",
       "      <td>Cardiff</td>\n",
       "      <td>2</td>\n",
       "      <td>0</td>\n",
       "      <td>H</td>\n",
       "      <td>1</td>\n",
       "      <td>0</td>\n",
       "      <td>H</td>\n",
       "      <td>K Friend</td>\n",
       "      <td>12</td>\n",
       "      <td>10</td>\n",
       "      <td>4</td>\n",
       "      <td>1</td>\n",
       "      <td>11</td>\n",
       "      <td>9</td>\n",
       "      <td>7</td>\n",
       "      <td>4</td>\n",
       "      <td>1</td>\n",
       "      <td>1</td>\n",
       "      <td>0</td>\n",
       "      <td>0</td>\n",
       "    </tr>\n",
       "    <tr>\n",
       "      <th>2</th>\n",
       "      <td>E0</td>\n",
       "      <td>11/08/2018</td>\n",
       "      <td>Fulham</td>\n",
       "      <td>Crystal Palace</td>\n",
       "      <td>0</td>\n",
       "      <td>2</td>\n",
       "      <td>A</td>\n",
       "      <td>0</td>\n",
       "      <td>1</td>\n",
       "      <td>A</td>\n",
       "      <td>M Dean</td>\n",
       "      <td>15</td>\n",
       "      <td>10</td>\n",
       "      <td>6</td>\n",
       "      <td>9</td>\n",
       "      <td>9</td>\n",
       "      <td>11</td>\n",
       "      <td>5</td>\n",
       "      <td>5</td>\n",
       "      <td>1</td>\n",
       "      <td>2</td>\n",
       "      <td>0</td>\n",
       "      <td>0</td>\n",
       "    </tr>\n",
       "    <tr>\n",
       "      <th>3</th>\n",
       "      <td>E0</td>\n",
       "      <td>11/08/2018</td>\n",
       "      <td>Huddersfield</td>\n",
       "      <td>Chelsea</td>\n",
       "      <td>0</td>\n",
       "      <td>3</td>\n",
       "      <td>A</td>\n",
       "      <td>0</td>\n",
       "      <td>2</td>\n",
       "      <td>A</td>\n",
       "      <td>C Kavanagh</td>\n",
       "      <td>6</td>\n",
       "      <td>13</td>\n",
       "      <td>1</td>\n",
       "      <td>4</td>\n",
       "      <td>9</td>\n",
       "      <td>8</td>\n",
       "      <td>2</td>\n",
       "      <td>5</td>\n",
       "      <td>2</td>\n",
       "      <td>1</td>\n",
       "      <td>0</td>\n",
       "      <td>0</td>\n",
       "    </tr>\n",
       "    <tr>\n",
       "      <th>4</th>\n",
       "      <td>E0</td>\n",
       "      <td>11/08/2018</td>\n",
       "      <td>Newcastle</td>\n",
       "      <td>Tottenham</td>\n",
       "      <td>1</td>\n",
       "      <td>2</td>\n",
       "      <td>A</td>\n",
       "      <td>1</td>\n",
       "      <td>2</td>\n",
       "      <td>A</td>\n",
       "      <td>M Atkinson</td>\n",
       "      <td>15</td>\n",
       "      <td>15</td>\n",
       "      <td>2</td>\n",
       "      <td>5</td>\n",
       "      <td>11</td>\n",
       "      <td>12</td>\n",
       "      <td>3</td>\n",
       "      <td>5</td>\n",
       "      <td>2</td>\n",
       "      <td>2</td>\n",
       "      <td>0</td>\n",
       "      <td>0</td>\n",
       "    </tr>\n",
       "  </tbody>\n",
       "</table>\n",
       "</div>"
      ],
      "text/plain": [
       "  Div        Date      HomeTeam        AwayTeam  FTHG  FTAG FTR  HTHG  HTAG  \\\n",
       "0  E0  10/08/2018    Man United       Leicester     2     1   H     1     0   \n",
       "1  E0  11/08/2018   Bournemouth         Cardiff     2     0   H     1     0   \n",
       "2  E0  11/08/2018        Fulham  Crystal Palace     0     2   A     0     1   \n",
       "3  E0  11/08/2018  Huddersfield         Chelsea     0     3   A     0     2   \n",
       "4  E0  11/08/2018     Newcastle       Tottenham     1     2   A     1     2   \n",
       "\n",
       "  HTR     Referee  HS  AS  HST  AST  HF  AF  HC  AC  HY  AY  HR  AR  \n",
       "0   H  A Marriner   8  13    6    4  11   8   2   5   2   1   0   0  \n",
       "1   H    K Friend  12  10    4    1  11   9   7   4   1   1   0   0  \n",
       "2   A      M Dean  15  10    6    9   9  11   5   5   1   2   0   0  \n",
       "3   A  C Kavanagh   6  13    1    4   9   8   2   5   2   1   0   0  \n",
       "4   A  M Atkinson  15  15    2    5  11  12   3   5   2   2   0   0  "
      ]
     },
     "execution_count": 66,
     "metadata": {},
     "output_type": "execute_result"
    }
   ],
   "source": [
    "football_data.head()"
   ]
  },
  {
   "cell_type": "code",
   "execution_count": 67,
   "metadata": {},
   "outputs": [
    {
     "name": "stdout",
     "output_type": "stream",
     "text": [
      "The average number of shots on target by the HOME Team - 4.778947368421052\n"
     ]
    }
   ],
   "source": [
    "# The Average Number of Shots on Target by the HOME Team\n",
    "# HST = Home Team Shots on Target\n",
    "print(\"The average number of shots on target by the HOME Team - {}\".format(football_data['HST'].mean()))"
   ]
  },
  {
   "cell_type": "code",
   "execution_count": 68,
   "metadata": {},
   "outputs": [
    {
     "name": "stdout",
     "output_type": "stream",
     "text": [
      "The average number of shots on target by the AWAY Team - 3.9289473684210527\n"
     ]
    }
   ],
   "source": [
    "# The Average Number of Shots on Target by the AWAY Team\n",
    "# AST = Away Team Shots on Target\n",
    "print(\"The average number of shots on target by the AWAY Team - {}\".format(football_data['AST'].mean()))"
   ]
  },
  {
   "cell_type": "code",
   "execution_count": 69,
   "metadata": {},
   "outputs": [
    {
     "name": "stdout",
     "output_type": "stream",
     "text": [
      "The average number of fouls conceded by the HOME Team - 10.152631578947368\n"
     ]
    }
   ],
   "source": [
    "# The Average Number of Fouls committed by the HOME Team\n",
    "# HF = Home Team Fouls\n",
    "print(\"The average number of fouls conceded by the HOME Team - {}\".format(football_data['HF'].mean()))"
   ]
  },
  {
   "cell_type": "code",
   "execution_count": 70,
   "metadata": {},
   "outputs": [
    {
     "name": "stdout",
     "output_type": "stream",
     "text": [
      "The average number of fouls conceded by the AWAY Team - 10.305263157894737\n"
     ]
    }
   ],
   "source": [
    "# The Average Number of Fouls committed by the AWAY Team\n",
    "# AF = AWAY Team Fouls\n",
    "print(\"The average number of fouls conceded by the AWAY Team - {}\".format(football_data['AF'].mean()))"
   ]
  },
  {
   "cell_type": "code",
   "execution_count": 71,
   "metadata": {},
   "outputs": [
    {
     "name": "stdout",
     "output_type": "stream",
     "text": [
      "The average number of Corner for the HOME Team - 5.705263157894737\n"
     ]
    }
   ],
   "source": [
    "# The Average Number of Corners for the HOME Team\n",
    "# HC = Home Team Corners\n",
    "print(\"The average number of Corners for the HOME Team - {}\".format(football_data['HC'].mean()))"
   ]
  },
  {
   "cell_type": "code",
   "execution_count": 72,
   "metadata": {},
   "outputs": [
    {
     "name": "stdout",
     "output_type": "stream",
     "text": [
      "The average number of Corners for the AWAY Team - 4.552631578947368\n"
     ]
    }
   ],
   "source": [
    "# The Average Number of Corners for the AWAY Team\n",
    "# AC = Away Team Corners\n",
    "print(\"The average number of Corners for the AWAY Team - {}\".format(football_data['AC'].mean()))"
   ]
  },
  {
   "cell_type": "code",
   "execution_count": 73,
   "metadata": {},
   "outputs": [
    {
     "name": "stdout",
     "output_type": "stream",
     "text": [
      "The average number of Yellow Cards for the HOME Team - 1.5263157894736843\n"
     ]
    }
   ],
   "source": [
    "# The Average Number of Yellow Cards for the HOME Team\n",
    "# HY = Home Team Yellow Cards\n",
    "print(\"The average number of Yellow Cards for the HOME Team - {}\".format(football_data['HY'].mean()))"
   ]
  },
  {
   "cell_type": "code",
   "execution_count": 74,
   "metadata": {},
   "outputs": [
    {
     "name": "stdout",
     "output_type": "stream",
     "text": [
      "The average number of Yellow Cards for the AWAY Team - 1.6842105263157894\n"
     ]
    }
   ],
   "source": [
    "# The Average Number of Yellow Cards for the AWAY Team\n",
    "# AY = AWAY Team Yellow Cards\n",
    "print(\"The average number of Yellow Cards for the AWAY Team - {}\".format(football_data['AY'].mean()))"
   ]
  },
  {
   "cell_type": "code",
   "execution_count": 75,
   "metadata": {},
   "outputs": [
    {
     "name": "stdout",
     "output_type": "stream",
     "text": [
      "The average number of RED Cards for the HOME Team - 0.04736842105263158\n"
     ]
    }
   ],
   "source": [
    "# The Average Number of RED Cards for the HOME Team\n",
    "# HY = Home Team Yellow Cards\n",
    "print(\"The average number of RED Cards for the HOME Team - {}\".format(football_data['HR'].mean()))"
   ]
  },
  {
   "cell_type": "code",
   "execution_count": 76,
   "metadata": {},
   "outputs": [
    {
     "name": "stdout",
     "output_type": "stream",
     "text": [
      "The average number of RED Cards for the AWAY Team - 0.07631578947368421\n"
     ]
    }
   ],
   "source": [
    "# The Average Number of RED Cards for the AWAY Team\n",
    "# AY = AWAY Team Yellow Cards\n",
    "print(\"The average number of RED Cards for the AWAY Team - {}\".format(football_data['AR'].mean()))"
   ]
  },
  {
   "cell_type": "code",
   "execution_count": 96,
   "metadata": {},
   "outputs": [
    {
     "data": {
      "text/html": [
       "<div>\n",
       "<style scoped>\n",
       "    .dataframe tbody tr th:only-of-type {\n",
       "        vertical-align: middle;\n",
       "    }\n",
       "\n",
       "    .dataframe tbody tr th {\n",
       "        vertical-align: top;\n",
       "    }\n",
       "\n",
       "    .dataframe thead th {\n",
       "        text-align: right;\n",
       "    }\n",
       "</style>\n",
       "<table border=\"1\" class=\"dataframe\">\n",
       "  <thead>\n",
       "    <tr style=\"text-align: right;\">\n",
       "      <th></th>\n",
       "      <th>Div</th>\n",
       "      <th>Date</th>\n",
       "      <th>HomeTeam</th>\n",
       "      <th>AwayTeam</th>\n",
       "      <th>FTHG</th>\n",
       "      <th>FTAG</th>\n",
       "      <th>FTR</th>\n",
       "      <th>HTHG</th>\n",
       "      <th>HTAG</th>\n",
       "      <th>HTR</th>\n",
       "      <th>Referee</th>\n",
       "      <th>HS</th>\n",
       "      <th>AS</th>\n",
       "      <th>HST</th>\n",
       "      <th>AST</th>\n",
       "      <th>HF</th>\n",
       "      <th>AF</th>\n",
       "      <th>HC</th>\n",
       "      <th>AC</th>\n",
       "      <th>HY</th>\n",
       "      <th>AY</th>\n",
       "      <th>HR</th>\n",
       "      <th>AR</th>\n",
       "    </tr>\n",
       "  </thead>\n",
       "  <tbody>\n",
       "    <tr>\n",
       "      <th>74</th>\n",
       "      <td>E0</td>\n",
       "      <td>06/10/2018</td>\n",
       "      <td>Man United</td>\n",
       "      <td>Newcastle</td>\n",
       "      <td>3</td>\n",
       "      <td>2</td>\n",
       "      <td>H</td>\n",
       "      <td>0</td>\n",
       "      <td>2</td>\n",
       "      <td>A</td>\n",
       "      <td>A Taylor</td>\n",
       "      <td>18</td>\n",
       "      <td>13</td>\n",
       "      <td>10</td>\n",
       "      <td>8</td>\n",
       "      <td>16</td>\n",
       "      <td>8</td>\n",
       "      <td>10</td>\n",
       "      <td>6</td>\n",
       "      <td>2</td>\n",
       "      <td>2</td>\n",
       "      <td>0</td>\n",
       "      <td>0</td>\n",
       "    </tr>\n",
       "    <tr>\n",
       "      <th>130</th>\n",
       "      <td>E0</td>\n",
       "      <td>30/11/2018</td>\n",
       "      <td>Cardiff</td>\n",
       "      <td>Wolves</td>\n",
       "      <td>2</td>\n",
       "      <td>1</td>\n",
       "      <td>H</td>\n",
       "      <td>0</td>\n",
       "      <td>1</td>\n",
       "      <td>A</td>\n",
       "      <td>A Marriner</td>\n",
       "      <td>17</td>\n",
       "      <td>15</td>\n",
       "      <td>3</td>\n",
       "      <td>4</td>\n",
       "      <td>3</td>\n",
       "      <td>12</td>\n",
       "      <td>7</td>\n",
       "      <td>6</td>\n",
       "      <td>1</td>\n",
       "      <td>2</td>\n",
       "      <td>0</td>\n",
       "      <td>0</td>\n",
       "    </tr>\n",
       "    <tr>\n",
       "      <th>137</th>\n",
       "      <td>E0</td>\n",
       "      <td>02/12/2018</td>\n",
       "      <td>Arsenal</td>\n",
       "      <td>Tottenham</td>\n",
       "      <td>4</td>\n",
       "      <td>2</td>\n",
       "      <td>H</td>\n",
       "      <td>1</td>\n",
       "      <td>2</td>\n",
       "      <td>A</td>\n",
       "      <td>M Dean</td>\n",
       "      <td>22</td>\n",
       "      <td>11</td>\n",
       "      <td>7</td>\n",
       "      <td>6</td>\n",
       "      <td>15</td>\n",
       "      <td>17</td>\n",
       "      <td>8</td>\n",
       "      <td>5</td>\n",
       "      <td>3</td>\n",
       "      <td>3</td>\n",
       "      <td>0</td>\n",
       "      <td>1</td>\n",
       "    </tr>\n",
       "    <tr>\n",
       "      <th>149</th>\n",
       "      <td>E0</td>\n",
       "      <td>05/12/2018</td>\n",
       "      <td>Wolves</td>\n",
       "      <td>Chelsea</td>\n",
       "      <td>2</td>\n",
       "      <td>1</td>\n",
       "      <td>H</td>\n",
       "      <td>0</td>\n",
       "      <td>1</td>\n",
       "      <td>A</td>\n",
       "      <td>J Moss</td>\n",
       "      <td>6</td>\n",
       "      <td>17</td>\n",
       "      <td>2</td>\n",
       "      <td>3</td>\n",
       "      <td>18</td>\n",
       "      <td>10</td>\n",
       "      <td>1</td>\n",
       "      <td>5</td>\n",
       "      <td>4</td>\n",
       "      <td>4</td>\n",
       "      <td>0</td>\n",
       "      <td>0</td>\n",
       "    </tr>\n",
       "    <tr>\n",
       "      <th>157</th>\n",
       "      <td>E0</td>\n",
       "      <td>08/12/2018</td>\n",
       "      <td>West Ham</td>\n",
       "      <td>Crystal Palace</td>\n",
       "      <td>3</td>\n",
       "      <td>2</td>\n",
       "      <td>H</td>\n",
       "      <td>0</td>\n",
       "      <td>1</td>\n",
       "      <td>A</td>\n",
       "      <td>A Taylor</td>\n",
       "      <td>13</td>\n",
       "      <td>8</td>\n",
       "      <td>6</td>\n",
       "      <td>4</td>\n",
       "      <td>10</td>\n",
       "      <td>8</td>\n",
       "      <td>5</td>\n",
       "      <td>3</td>\n",
       "      <td>1</td>\n",
       "      <td>2</td>\n",
       "      <td>0</td>\n",
       "      <td>0</td>\n",
       "    </tr>\n",
       "    <tr>\n",
       "      <th>222</th>\n",
       "      <td>E0</td>\n",
       "      <td>19/01/2019</td>\n",
       "      <td>Liverpool</td>\n",
       "      <td>Crystal Palace</td>\n",
       "      <td>4</td>\n",
       "      <td>3</td>\n",
       "      <td>H</td>\n",
       "      <td>0</td>\n",
       "      <td>1</td>\n",
       "      <td>A</td>\n",
       "      <td>J Moss</td>\n",
       "      <td>19</td>\n",
       "      <td>9</td>\n",
       "      <td>9</td>\n",
       "      <td>3</td>\n",
       "      <td>6</td>\n",
       "      <td>8</td>\n",
       "      <td>8</td>\n",
       "      <td>3</td>\n",
       "      <td>0</td>\n",
       "      <td>1</td>\n",
       "      <td>1</td>\n",
       "      <td>0</td>\n",
       "    </tr>\n",
       "    <tr>\n",
       "      <th>231</th>\n",
       "      <td>E0</td>\n",
       "      <td>29/01/2019</td>\n",
       "      <td>Fulham</td>\n",
       "      <td>Brighton</td>\n",
       "      <td>4</td>\n",
       "      <td>2</td>\n",
       "      <td>H</td>\n",
       "      <td>0</td>\n",
       "      <td>2</td>\n",
       "      <td>A</td>\n",
       "      <td>L Probert</td>\n",
       "      <td>24</td>\n",
       "      <td>15</td>\n",
       "      <td>7</td>\n",
       "      <td>6</td>\n",
       "      <td>10</td>\n",
       "      <td>5</td>\n",
       "      <td>10</td>\n",
       "      <td>1</td>\n",
       "      <td>2</td>\n",
       "      <td>3</td>\n",
       "      <td>0</td>\n",
       "      <td>0</td>\n",
       "    </tr>\n",
       "    <tr>\n",
       "      <th>234</th>\n",
       "      <td>E0</td>\n",
       "      <td>29/01/2019</td>\n",
       "      <td>Newcastle</td>\n",
       "      <td>Man City</td>\n",
       "      <td>2</td>\n",
       "      <td>1</td>\n",
       "      <td>H</td>\n",
       "      <td>0</td>\n",
       "      <td>1</td>\n",
       "      <td>A</td>\n",
       "      <td>P Tierney</td>\n",
       "      <td>6</td>\n",
       "      <td>12</td>\n",
       "      <td>2</td>\n",
       "      <td>4</td>\n",
       "      <td>9</td>\n",
       "      <td>7</td>\n",
       "      <td>1</td>\n",
       "      <td>8</td>\n",
       "      <td>2</td>\n",
       "      <td>3</td>\n",
       "      <td>0</td>\n",
       "      <td>0</td>\n",
       "    </tr>\n",
       "    <tr>\n",
       "      <th>239</th>\n",
       "      <td>E0</td>\n",
       "      <td>30/01/2019</td>\n",
       "      <td>Tottenham</td>\n",
       "      <td>Watford</td>\n",
       "      <td>2</td>\n",
       "      <td>1</td>\n",
       "      <td>H</td>\n",
       "      <td>0</td>\n",
       "      <td>1</td>\n",
       "      <td>A</td>\n",
       "      <td>G Scott</td>\n",
       "      <td>17</td>\n",
       "      <td>9</td>\n",
       "      <td>3</td>\n",
       "      <td>1</td>\n",
       "      <td>6</td>\n",
       "      <td>9</td>\n",
       "      <td>9</td>\n",
       "      <td>5</td>\n",
       "      <td>0</td>\n",
       "      <td>4</td>\n",
       "      <td>0</td>\n",
       "      <td>0</td>\n",
       "    </tr>\n",
       "    <tr>\n",
       "      <th>282</th>\n",
       "      <td>E0</td>\n",
       "      <td>02/03/2019</td>\n",
       "      <td>Man United</td>\n",
       "      <td>Southampton</td>\n",
       "      <td>3</td>\n",
       "      <td>2</td>\n",
       "      <td>H</td>\n",
       "      <td>0</td>\n",
       "      <td>1</td>\n",
       "      <td>A</td>\n",
       "      <td>S Attwell</td>\n",
       "      <td>16</td>\n",
       "      <td>6</td>\n",
       "      <td>6</td>\n",
       "      <td>3</td>\n",
       "      <td>7</td>\n",
       "      <td>10</td>\n",
       "      <td>9</td>\n",
       "      <td>7</td>\n",
       "      <td>2</td>\n",
       "      <td>1</td>\n",
       "      <td>0</td>\n",
       "      <td>0</td>\n",
       "    </tr>\n",
       "    <tr>\n",
       "      <th>294</th>\n",
       "      <td>E0</td>\n",
       "      <td>09/03/2019</td>\n",
       "      <td>Newcastle</td>\n",
       "      <td>Everton</td>\n",
       "      <td>3</td>\n",
       "      <td>2</td>\n",
       "      <td>H</td>\n",
       "      <td>0</td>\n",
       "      <td>2</td>\n",
       "      <td>A</td>\n",
       "      <td>L Mason</td>\n",
       "      <td>19</td>\n",
       "      <td>7</td>\n",
       "      <td>7</td>\n",
       "      <td>3</td>\n",
       "      <td>13</td>\n",
       "      <td>10</td>\n",
       "      <td>8</td>\n",
       "      <td>2</td>\n",
       "      <td>3</td>\n",
       "      <td>1</td>\n",
       "      <td>0</td>\n",
       "      <td>0</td>\n",
       "    </tr>\n",
       "    <tr>\n",
       "      <th>295</th>\n",
       "      <td>E0</td>\n",
       "      <td>09/03/2019</td>\n",
       "      <td>Southampton</td>\n",
       "      <td>Tottenham</td>\n",
       "      <td>2</td>\n",
       "      <td>1</td>\n",
       "      <td>H</td>\n",
       "      <td>0</td>\n",
       "      <td>1</td>\n",
       "      <td>A</td>\n",
       "      <td>K Friend</td>\n",
       "      <td>12</td>\n",
       "      <td>16</td>\n",
       "      <td>4</td>\n",
       "      <td>5</td>\n",
       "      <td>16</td>\n",
       "      <td>9</td>\n",
       "      <td>1</td>\n",
       "      <td>10</td>\n",
       "      <td>4</td>\n",
       "      <td>2</td>\n",
       "      <td>0</td>\n",
       "      <td>0</td>\n",
       "    </tr>\n",
       "    <tr>\n",
       "      <th>301</th>\n",
       "      <td>E0</td>\n",
       "      <td>16/03/2019</td>\n",
       "      <td>West Ham</td>\n",
       "      <td>Huddersfield</td>\n",
       "      <td>4</td>\n",
       "      <td>3</td>\n",
       "      <td>H</td>\n",
       "      <td>1</td>\n",
       "      <td>2</td>\n",
       "      <td>A</td>\n",
       "      <td>J Moss</td>\n",
       "      <td>16</td>\n",
       "      <td>15</td>\n",
       "      <td>5</td>\n",
       "      <td>5</td>\n",
       "      <td>7</td>\n",
       "      <td>15</td>\n",
       "      <td>5</td>\n",
       "      <td>8</td>\n",
       "      <td>0</td>\n",
       "      <td>2</td>\n",
       "      <td>0</td>\n",
       "      <td>0</td>\n",
       "    </tr>\n",
       "  </tbody>\n",
       "</table>\n",
       "</div>"
      ],
      "text/plain": [
       "    Div        Date     HomeTeam        AwayTeam  FTHG  FTAG FTR  HTHG  HTAG  \\\n",
       "74   E0  06/10/2018   Man United       Newcastle     3     2   H     0     2   \n",
       "130  E0  30/11/2018      Cardiff          Wolves     2     1   H     0     1   \n",
       "137  E0  02/12/2018      Arsenal       Tottenham     4     2   H     1     2   \n",
       "149  E0  05/12/2018       Wolves         Chelsea     2     1   H     0     1   \n",
       "157  E0  08/12/2018     West Ham  Crystal Palace     3     2   H     0     1   \n",
       "222  E0  19/01/2019    Liverpool  Crystal Palace     4     3   H     0     1   \n",
       "231  E0  29/01/2019       Fulham        Brighton     4     2   H     0     2   \n",
       "234  E0  29/01/2019    Newcastle        Man City     2     1   H     0     1   \n",
       "239  E0  30/01/2019    Tottenham         Watford     2     1   H     0     1   \n",
       "282  E0  02/03/2019   Man United     Southampton     3     2   H     0     1   \n",
       "294  E0  09/03/2019    Newcastle         Everton     3     2   H     0     2   \n",
       "295  E0  09/03/2019  Southampton       Tottenham     2     1   H     0     1   \n",
       "301  E0  16/03/2019     West Ham    Huddersfield     4     3   H     1     2   \n",
       "\n",
       "    HTR     Referee  HS  AS  HST  AST  HF  AF  HC  AC  HY  AY  HR  AR  \n",
       "74    A    A Taylor  18  13   10    8  16   8  10   6   2   2   0   0  \n",
       "130   A  A Marriner  17  15    3    4   3  12   7   6   1   2   0   0  \n",
       "137   A      M Dean  22  11    7    6  15  17   8   5   3   3   0   1  \n",
       "149   A      J Moss   6  17    2    3  18  10   1   5   4   4   0   0  \n",
       "157   A    A Taylor  13   8    6    4  10   8   5   3   1   2   0   0  \n",
       "222   A      J Moss  19   9    9    3   6   8   8   3   0   1   1   0  \n",
       "231   A   L Probert  24  15    7    6  10   5  10   1   2   3   0   0  \n",
       "234   A   P Tierney   6  12    2    4   9   7   1   8   2   3   0   0  \n",
       "239   A     G Scott  17   9    3    1   6   9   9   5   0   4   0   0  \n",
       "282   A   S Attwell  16   6    6    3   7  10   9   7   2   1   0   0  \n",
       "294   A     L Mason  19   7    7    3  13  10   8   2   3   1   0   0  \n",
       "295   A    K Friend  12  16    4    5  16   9   1  10   4   2   0   0  \n",
       "301   A      J Moss  16  15    5    5   7  15   5   8   0   2   0   0  "
      ]
     },
     "execution_count": 96,
     "metadata": {},
     "output_type": "execute_result"
    }
   ],
   "source": [
    "# The number of times HOME Team was trailing at HALF Time but WON at Full-Time\n",
    "(football_data[(football_data['HTR'] == 'A') & (football_data['FTR'] == 'H')])"
   ]
  },
  {
   "cell_type": "code",
   "execution_count": 87,
   "metadata": {},
   "outputs": [
    {
     "data": {
      "text/plain": [
       "['A Marriner',\n",
       " 'K Friend',\n",
       " 'M Dean',\n",
       " 'C Kavanagh',\n",
       " 'M Atkinson',\n",
       " 'J Moss',\n",
       " 'C Pawson',\n",
       " 'M Oliver',\n",
       " 'A Taylor',\n",
       " 'G Scott',\n",
       " 'L Mason',\n",
       " 'S Attwell',\n",
       " 'P Tierney',\n",
       " 'L Probert',\n",
       " 'D Coote',\n",
       " 'R East',\n",
       " 'S Hooper',\n",
       " 'A Madley']"
      ]
     },
     "execution_count": 87,
     "metadata": {},
     "output_type": "execute_result"
    }
   ],
   "source": [
    "football_referees"
   ]
  },
  {
   "cell_type": "code",
   "execution_count": null,
   "metadata": {},
   "outputs": [],
   "source": []
  },
  {
   "cell_type": "code",
   "execution_count": null,
   "metadata": {},
   "outputs": [],
   "source": []
  },
  {
   "cell_type": "code",
   "execution_count": null,
   "metadata": {},
   "outputs": [],
   "source": []
  },
  {
   "cell_type": "code",
   "execution_count": null,
   "metadata": {},
   "outputs": [],
   "source": []
  },
  {
   "cell_type": "code",
   "execution_count": 83,
   "metadata": {},
   "outputs": [
    {
     "data": {
      "text/plain": [
       "A Taylor      32\n",
       "M Oliver      30\n",
       "M Dean        29\n",
       "M Atkinson    29\n",
       "J Moss        27\n",
       "A Marriner    27\n",
       "K Friend      27\n",
       "C Pawson      26\n",
       "C Kavanagh    24\n",
       "P Tierney     24\n",
       "S Attwell     20\n",
       "L Mason       19\n",
       "L Probert     18\n",
       "G Scott       17\n",
       "D Coote       11\n",
       "R East        10\n",
       "S Hooper       8\n",
       "A Madley       2\n",
       "Name: Referee, dtype: int64"
      ]
     },
     "execution_count": 83,
     "metadata": {},
     "output_type": "execute_result"
    }
   ],
   "source": [
    "# Names of referee and the number of games they were judging\n",
    "football_data['Referee'].value_counts()"
   ]
  },
  {
   "cell_type": "code",
   "execution_count": null,
   "metadata": {},
   "outputs": [],
   "source": [
    "# Since, I am only concerned with 'Arsenal' matches, I choose only those games where \n",
    "# ('HomeTeam' == 'Arsenal') OR ('AwayTeam' == 'Arsenal')\n",
    "arsenal_data = football_data[(football_data['HomeTeam'] == 'Arsenal') | (football_data['AwayTeam'] == 'Arsenal')]\n",
    "arsenal_data.head()"
   ]
  },
  {
   "cell_type": "code",
   "execution_count": null,
   "metadata": {},
   "outputs": [],
   "source": [
    "# Shape of the Arsenal data: Should be 38 for 38 games in a single season.\n",
    "total_games, total_features = arsenal_data.shape\n",
    "total_games"
   ]
  },
  {
   "cell_type": "code",
   "execution_count": null,
   "metadata": {},
   "outputs": [],
   "source": [
    "# Calculate Arsenal summary statistics\n",
    "arsenal_data.describe()\n",
    "# This data is pretty useless considering that we don't know who is home and who is away. \n",
    "# Let's do the analysis for all HOME games for arsenal"
   ]
  },
  {
   "cell_type": "markdown",
   "metadata": {},
   "source": [
    "## Arsenal - HOME Analysis"
   ]
  },
  {
   "cell_type": "code",
   "execution_count": null,
   "metadata": {},
   "outputs": [],
   "source": [
    "arsenal_home = arsenal_data[arsenal_data['HomeTeam']=='Arsenal']\n",
    "arsenal_home.head()\n",
    "# 19 Home Games per season"
   ]
  },
  {
   "cell_type": "code",
   "execution_count": null,
   "metadata": {},
   "outputs": [],
   "source": [
    "home_games, total_features = arsenal_home.shape\n",
    "home_games"
   ]
  },
  {
   "cell_type": "code",
   "execution_count": null,
   "metadata": {},
   "outputs": [],
   "source": [
    "# The total number of goals scored by Arsenal at HOME\n",
    "arsenal_home['FTHG'].sum()"
   ]
  },
  {
   "cell_type": "code",
   "execution_count": null,
   "metadata": {},
   "outputs": [],
   "source": [
    "# The total number of goals conceded by Arsenal at HOME\n",
    "arsenal_home['FTAG'].sum()"
   ]
  },
  {
   "cell_type": "code",
   "execution_count": null,
   "metadata": {},
   "outputs": [],
   "source": [
    "# The number of Wins/Losses/Draw for Arsenal at HOME\n",
    "arsenal_home['FTR'].value_counts()"
   ]
  },
  {
   "cell_type": "code",
   "execution_count": null,
   "metadata": {},
   "outputs": [],
   "source": [
    "arsenal_home['FTR'].value_counts().plot.pie(labels=['Home Wins', 'Home Losses', 'Draws'],\n",
    "                                             colors=['r', 'g', 'b'], \n",
    "                                             autopct='%.2f', fontsize=12, figsize=(6, 6))"
   ]
  },
  {
   "cell_type": "code",
   "execution_count": null,
   "metadata": {},
   "outputs": [],
   "source": [
    "# The games where Arsenal was trailing at HALF Time but Won the game at FULL Time\n",
    "arsenal_home[(arsenal_home['HTR'] == 'A') & (arsenal_home['FTR'] == 'H')]"
   ]
  },
  {
   "cell_type": "markdown",
   "metadata": {},
   "source": [
    "NICE!! Against the Arch Rivals! "
   ]
  },
  {
   "cell_type": "code",
   "execution_count": null,
   "metadata": {},
   "outputs": [],
   "source": [
    "arsenal_home[(arsenal_home['HTR'] == 'H') & (arsenal_home['FTR'] == 'H')]"
   ]
  },
  {
   "cell_type": "code",
   "execution_count": null,
   "metadata": {},
   "outputs": [],
   "source": []
  }
 ],
 "metadata": {
  "kernelspec": {
   "display_name": "Python 3",
   "language": "python",
   "name": "python3"
  },
  "language_info": {
   "codemirror_mode": {
    "name": "ipython",
    "version": 3
   },
   "file_extension": ".py",
   "mimetype": "text/x-python",
   "name": "python",
   "nbconvert_exporter": "python",
   "pygments_lexer": "ipython3",
   "version": "3.7.6"
  }
 },
 "nbformat": 4,
 "nbformat_minor": 4
}
